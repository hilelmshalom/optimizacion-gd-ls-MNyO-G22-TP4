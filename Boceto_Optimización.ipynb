{
 "cells": [
  {
   "cell_type": "code",
   "execution_count": 1,
   "metadata": {},
   "outputs": [],
   "source": [
    "import numpy as np\n",
    "np.random.seed(36645)\n",
    "\n",
    "n = 5\n",
    "d = 100\n",
    "A = np.random.randint(-100, 100, size=(n, d))\n",
    "b = np.random.randint(-100, 100, size=(n))\n",
    "x_rand = np.random.randint(-100, 100, size=(d))\n",
    "x_zero = np.zeros(d)\n",
    "\n",
    "max_iter = 1000"
   ]
  },
  {
   "cell_type": "markdown",
   "metadata": {},
   "source": [
    "### Descenso por Gradiente sin Regularización"
   ]
  },
  {
   "cell_type": "code",
   "execution_count": 2,
   "metadata": {},
   "outputs": [],
   "source": [
    "def F(x, A, b):\n",
    "    return np.dot((A @ x - b).T, (A @ x - b))\n",
    "\n",
    "def grad_F(x, A, b):\n",
    "    return 2 * A.T @ (A @ x - b)"
   ]
  },
  {
   "cell_type": "code",
   "execution_count": 3,
   "metadata": {},
   "outputs": [],
   "source": [
    "# # Función de costo\n",
    "# def cost_function(A, x, b):\n",
    "#     return np.dot((A @ x - b).T, (A @ x - b))\n",
    "\n",
    "# # Gradiente de la función de costo\n",
    "# def gradient_F(x, A, b):\n",
    "#     return 2 * A.T @ (A @ x - b)"
   ]
  },
  {
   "cell_type": "code",
   "execution_count": 4,
   "metadata": {},
   "outputs": [],
   "source": [
    "# Calcular el Hessiano\n",
    "H = 2 * np.dot(A.T, A)\n",
    "\n",
    "# Calcular los autovalores del Hessiano\n",
    "eigenvalues = np.linalg.eigvals(H)\n",
    "\n",
    "# Encontrar el autovalor más grande\n",
    "max_eigenvalue = np.max(eigenvalues)\n",
    "\n",
    "s = 1 / max_eigenvalue  # s = 1 / λ_max"
   ]
  },
  {
   "cell_type": "code",
   "execution_count": 5,
   "metadata": {},
   "outputs": [],
   "source": [
    "def metodo_gradiente_descendiente(x_vector):\n",
    "    x_gd = x_vector.copy()\n",
    "    for _ in range(max_iter):\n",
    "        delta = s * grad_F(x_vector, A, b)\n",
    "        x_gd = x_gd - delta\n",
    "    return x_gd"
   ]
  },
  {
   "cell_type": "code",
   "execution_count": 6,
   "metadata": {},
   "outputs": [
    {
     "name": "stdout",
     "output_type": "stream",
     "text": [
      "[ 2.72711253e+04+0.j  2.64310769e+04+0.j -7.59373486e+03+0.j\n",
      "  7.30052766e+03+0.j  2.20416505e+04+0.j -1.02350810e+04+0.j\n",
      "  2.64449794e+03+0.j -1.86629958e+04+0.j  8.48755697e+03+0.j\n",
      "  1.53287108e+03+0.j  3.36717884e+04+0.j  1.11007899e+04+0.j\n",
      " -1.46084150e+04+0.j  2.40124758e+04+0.j  1.54095615e+04+0.j\n",
      "  2.12478439e+04+0.j -2.34161963e+04+0.j -2.53635509e+04+0.j\n",
      "  2.84881213e+04+0.j  2.96948430e+04+0.j -1.75487505e+04+0.j\n",
      " -7.59150622e+03+0.j  1.51408932e+04+0.j -3.95579234e+03+0.j\n",
      " -9.73219522e+03+0.j -8.98456522e+03+0.j -3.71384993e+04+0.j\n",
      " -2.21535050e+04+0.j -2.37603760e+04+0.j  7.07523438e+03+0.j\n",
      "  2.55701397e+04+0.j -1.53792519e+04+0.j -1.81309634e+04+0.j\n",
      " -8.88045202e+03+0.j  5.32158257e+03+0.j  1.43347829e+04+0.j\n",
      " -2.48923053e+04+0.j -3.28208210e+04+0.j  1.28936157e+04+0.j\n",
      " -7.80141775e+03+0.j  1.65110000e+03+0.j  4.75618126e+03+0.j\n",
      "  4.13196504e+03+0.j  2.81723436e+03+0.j  4.13820802e+03+0.j\n",
      "  1.34380601e+04+0.j -1.52157152e+04+0.j  9.18015031e+02+0.j\n",
      " -3.90861481e+04+0.j -4.23885029e+03+0.j -3.73752417e+04+0.j\n",
      "  1.93709045e+04+0.j -1.47847556e+04+0.j -5.35830095e+03+0.j\n",
      "  7.30174166e+03+0.j  8.07297576e+03+0.j  2.96677352e+04+0.j\n",
      "  6.56928754e+03+0.j -4.35481130e+03+0.j -4.23260868e+03+0.j\n",
      "  1.22989573e+04+0.j  2.73670280e+04+0.j -1.51345588e+04+0.j\n",
      "  1.52704804e+04+0.j -3.65973204e+04+0.j  3.49644355e+04+0.j\n",
      " -2.16519571e+04+0.j  1.17366764e+04+0.j -1.05234375e+04+0.j\n",
      "  5.91289075e+03+0.j  2.07232168e+04+0.j  6.25658696e+03+0.j\n",
      " -3.83690375e+04+0.j  2.86969602e+04+0.j -1.52499027e+04+0.j\n",
      " -1.10800867e+04+0.j -3.70364478e+03+0.j  4.12310222e+04+0.j\n",
      "  7.26256439e+02+0.j -2.53174062e+04+0.j -5.76216776e+03+0.j\n",
      "  2.92764526e+04+0.j -2.78879562e+04+0.j -6.24398171e+03+0.j\n",
      "  2.04641823e+04+0.j -1.25804384e+04+0.j  5.03100714e+04+0.j\n",
      "  3.07856199e+04+0.j -2.21583347e+02+0.j  1.77709110e+04+0.j\n",
      " -1.11399383e+00+0.j  9.47595608e+03+0.j -3.28186565e+04+0.j\n",
      "  1.72378933e+04+0.j -4.08811228e+03+0.j -7.74411208e+03+0.j\n",
      " -1.56437347e+04+0.j -7.17666379e+03+0.j -2.46346291e+04+0.j\n",
      " -1.34043180e+04+0.j]\n",
      "[-19.89855565+0.j -17.20773951+0.j -10.894137  +0.j   2.85143229+0.j\n",
      "  17.4000823 +0.j -19.52378465+0.j -17.71734876+0.j  22.75990252+0.j\n",
      "  12.88498402+0.j  -1.57046897+0.j  -7.76707947+0.j   0.39460016+0.j\n",
      " -21.79223982+0.j -19.09944076+0.j -10.77912791+0.j -26.95376851+0.j\n",
      "  -6.06177226+0.j  10.02760298+0.j -28.9148718 +0.j  -4.12842978+0.j\n",
      "  -1.23139044+0.j  -5.54224844+0.j -27.31465911+0.j  -1.13819342+0.j\n",
      "  -8.9191533 +0.j   8.55033104+0.j   9.76784107+0.j  17.11057666+0.j\n",
      "   3.53950392+0.j   6.91442587+0.j  -6.46430408+0.j  -0.51555799+0.j\n",
      "  -1.12233009+0.j  -7.29911145+0.j -21.48092211+0.j -10.48763935+0.j\n",
      "  27.09852133+0.j   6.3889533 +0.j -21.33418638+0.j  15.48656897+0.j\n",
      "   2.53614875+0.j  -7.92967853+0.j   9.09959859+0.j -13.20621631+0.j\n",
      "   5.96659232+0.j -15.19111459+0.j  -5.30826442+0.j  -0.85265361+0.j\n",
      "   4.80063809+0.j  -5.85158323+0.j  19.96795769+0.j -11.03492399+0.j\n",
      "  11.24907885+0.j -16.06756318+0.j  -9.0877011 +0.j -17.22756866+0.j\n",
      " -18.55612195+0.j  -4.96125423+0.j  -8.79819546+0.j -17.09669625+0.j\n",
      "   6.2481663 +0.j  -9.41686505+0.j   6.96201583+0.j  -3.61683762+0.j\n",
      "  25.46856491+0.j -15.69279217+0.j   1.61012727+0.j  18.40542039+0.j\n",
      "  23.09104939+0.j -21.4531613 +0.j -12.55383715+0.j   7.79880612+0.j\n",
      "   3.420529  +0.j   2.70271364+0.j -14.31664891+0.j  23.18622932+0.j\n",
      "   7.47559091+0.j -11.30856631+0.j -30.34851961+0.j  33.69369783+0.j\n",
      " -10.10097085+0.j -32.83311256+0.j   0.69005455+0.j  19.79544406+0.j\n",
      "  -1.95912038+0.j -23.21200722+0.j  -9.2681464 +0.j -10.51540016+0.j\n",
      " -16.46216333+0.j  -8.56619436+0.j  29.69019171+0.j  12.73229954+0.j\n",
      "   8.9330337 +0.j  -3.99359154+0.j -20.03934264+0.j   8.52455314+0.j\n",
      "   0.31131771+0.j  -6.9322721 +0.j  17.58449343+0.j  -2.75030361+0.j]\n"
     ]
    }
   ],
   "source": [
    "alpha = metodo_gradiente_descendiente(x_rand)\n",
    "print(alpha)\n",
    "omega = metodo_gradiente_descendiente(x_zero)\n",
    "print(omega)"
   ]
  },
  {
   "cell_type": "code",
   "execution_count": 7,
   "metadata": {},
   "outputs": [
    {
     "name": "stdout",
     "output_type": "stream",
     "text": [
      "[  0 -71 -90  10  44]\n",
      "['-7547.57', '-50635.06', '-64444.05', '-2691.80', '36160.68']\n",
      "[ -7547.56677528+0.j -50635.06239886+0.j -64444.0453192 +0.j\n",
      "  -2691.79768889+0.j  36160.67653644+0.j]\n"
     ]
    }
   ],
   "source": [
    "print(b)\n",
    "complejos = A @ omega\n",
    "numeros_reales = [f\"{num.real:.2f}\" for num in complejos]\n",
    "\n",
    "print(numeros_reales)\n",
    "print(A @ omega)"
   ]
  },
  {
   "cell_type": "markdown",
   "metadata": {},
   "source": [
    "### Descenso por Gradiente con Regularización $L_2$\n",
    "\n",
    "Se define la función de costo regularizada y su gradiente:"
   ]
  },
  {
   "cell_type": "code",
   "execution_count": 8,
   "metadata": {},
   "outputs": [],
   "source": [
    "delta2 = 1e-2 * np.linalg.norm(A, ord=2)\n",
    "\n",
    "def F2(x, A, b, delta2):\n",
    "    return F(x, A, b) + delta2 * np.linalg.norm(x) ** 2\n",
    "\n",
    "def grad_F2(x, A, b, delta2):\n",
    "    return grad_F(x, A, b) + 2 * delta2 * x "
   ]
  },
  {
   "cell_type": "markdown",
   "metadata": {},
   "source": [
    "El algoritmo de gradiente descendente regularizado se ejecuta similarmente:"
   ]
  },
  {
   "cell_type": "code",
   "execution_count": 9,
   "metadata": {},
   "outputs": [
    {
     "ename": "NameError",
     "evalue": "name 'x0' is not defined",
     "output_type": "error",
     "traceback": [
      "\u001b[0;31m---------------------------------------------------------------------------\u001b[0m",
      "\u001b[0;31mNameError\u001b[0m                                 Traceback (most recent call last)",
      "Cell \u001b[0;32mIn[9], line 1\u001b[0m\n\u001b[0;32m----> 1\u001b[0m x_gd_reg \u001b[38;5;241m=\u001b[39m \u001b[43mx0\u001b[49m\u001b[38;5;241m.\u001b[39mcopy()\n\u001b[1;32m      3\u001b[0m \u001b[38;5;28;01mfor\u001b[39;00m _ \u001b[38;5;129;01min\u001b[39;00m \u001b[38;5;28mrange\u001b[39m(max_iter):\n\u001b[1;32m      4\u001b[0m     x_gd_reg \u001b[38;5;241m-\u001b[39m\u001b[38;5;241m=\u001b[39m s \u001b[38;5;241m*\u001b[39m grad_F2(x_gd_reg, A, b, delta2)\n",
      "\u001b[0;31mNameError\u001b[0m: name 'x0' is not defined"
     ]
    }
   ],
   "source": [
    "x_gd_reg = x0.copy()\n",
    "\n",
    "for _ in range(max_iter):\n",
    "    x_gd_reg -= s * grad_F2(x_gd_reg, A, b, delta2)"
   ]
  },
  {
   "cell_type": "markdown",
   "metadata": {},
   "source": [
    "### Comparación con SVD\n",
    "\n",
    "La solución obtenida por SVD es:"
   ]
  },
  {
   "cell_type": "code",
   "execution_count": null,
   "metadata": {},
   "outputs": [],
   "source": [
    "U, S, Vt = np.linalg.svd(A, full_matrices=False)\n",
    "x_svd = Vt.T @ np.linalg.inv(np.diag(S)) @ U.T @ b\n"
   ]
  },
  {
   "cell_type": "markdown",
   "metadata": {},
   "source": [
    "### Análisis de los Resultados\n",
    "\n",
    "La evolución de la norma de la diferencia $\\|A \\boldsymbol{x} - \\boldsymbol{b}\\|$ durante las iteraciones para ambos métodos se visualiza y compara con la solución por SVD."
   ]
  },
  {
   "cell_type": "code",
   "execution_count": 11,
   "metadata": {},
   "outputs": [
    {
     "ename": "NameError",
     "evalue": "name 'x_gd' is not defined",
     "output_type": "error",
     "traceback": [
      "\u001b[0;31m---------------------------------------------------------------------------\u001b[0m",
      "\u001b[0;31mNameError\u001b[0m                                 Traceback (most recent call last)",
      "Cell \u001b[0;32mIn[11], line 3\u001b[0m\n\u001b[1;32m      1\u001b[0m \u001b[38;5;28;01mimport\u001b[39;00m \u001b[38;5;21;01mmatplotlib\u001b[39;00m\u001b[38;5;21;01m.\u001b[39;00m\u001b[38;5;21;01mpyplot\u001b[39;00m \u001b[38;5;28;01mas\u001b[39;00m \u001b[38;5;21;01mplt\u001b[39;00m\n\u001b[0;32m----> 3\u001b[0m norm_diff_gd \u001b[38;5;241m=\u001b[39m [np\u001b[38;5;241m.\u001b[39mlinalg\u001b[38;5;241m.\u001b[39mnorm(A \u001b[38;5;241m@\u001b[39m \u001b[43mx_gd\u001b[49m \u001b[38;5;241m-\u001b[39m b)]\n\u001b[1;32m      4\u001b[0m norm_diff_gd_reg \u001b[38;5;241m=\u001b[39m [np\u001b[38;5;241m.\u001b[39mlinalg\u001b[38;5;241m.\u001b[39mnorm(A \u001b[38;5;241m@\u001b[39m x_gd_reg \u001b[38;5;241m-\u001b[39m b)]\n\u001b[1;32m      6\u001b[0m \u001b[38;5;28;01mfor\u001b[39;00m _ \u001b[38;5;129;01min\u001b[39;00m \u001b[38;5;28mrange\u001b[39m(max_iter):\n",
      "\u001b[0;31mNameError\u001b[0m: name 'x_gd' is not defined"
     ]
    }
   ],
   "source": [
    "import matplotlib.pyplot as plt\n",
    "\n",
    "norm_diff_gd = [np.linalg.norm(A @ x_gd - b)]\n",
    "norm_diff_gd_reg = [np.linalg.norm(A @ x_gd_reg - b)]\n",
    "\n",
    "for _ in range(max_iter):\n",
    "    x_gd -= s * grad_F(x_gd, A, b)\n",
    "    x_gd_reg -= s * grad_F2(x_gd_reg, A, b, delta2)\n",
    "    norm_diff_gd.append(np.linalg.norm(A @ x_gd - b))\n",
    "    norm_diff_gd_reg.append(np.linalg.norm(A @ x_gd_reg - b))\n",
    "\n",
    "plt.plot(norm_diff_gd, label='Gradiente Descendente')\n",
    "plt.plot(norm_diff_gd_reg, label='Gradiente Descendente Regularizado')\n",
    "plt.axhline(y=np.linalg.norm(A @ x_svd - b), color='r', linestyle='-', label='SVD')\n",
    "plt.xlabel('Iteraciones')\n",
    "plt.ylabel('Norma de la diferencia')\n",
    "plt.legend()\n",
    "plt.show()\n"
   ]
  },
  {
   "cell_type": "markdown",
   "metadata": {},
   "source": [
    "### Resultados Observados\n",
    "\n",
    "- **Sin regularización**: La solución converge a $\\boldsymbol{x}^*$ que minimiza $F$.\n",
    "- **Con regularización**: La solución converge más rápido y es más estable.\n",
    "- **Comparación con SVD**: La solución de SVD es consistente con los resultados del gradiente descendente, mostrando la efectividad de los métodos iterativos.\n",
    "\n",
    "### Variación de $\\delta_2$\n",
    "\n",
    "Al variar \\(\\delta_2\\), se observa que:\n",
    "\n",
    "- **Mayor $\\delta_2$**: La regularización domina, imponiendo una solución más suave pero potencialmente desviada de la original.\n",
    "- **Menor $\\delta_2$**: La regularización tiene menos impacto, acercando la solución a la obtenida sin regularización.\n",
    "\n",
    "## Conclusiones\n",
    "\n",
    "El algoritmo de gradiente descendente, tanto con como sin regularización, es una herramienta efectiva para resolver problemas de mínimos cuadrados. La elección de $s$ basada en $\\lambda_{\\max}$ asegura la convergencia del algoritmo. La regularización $L_2$ mejora la estabilidad y la rapidez de la convergencia, y la solución obtenida es consistente con la obtenida por SVD, validando la eficiencia de los métodos iterativos implementados.\n",
    "\n",
    "---\n",
    "\n",
    "Los códigos utilizados en este informe se encuentran en los archivos adjuntos:\n",
    "\n",
    "- `gradiente_descendente.py`: Implementación del algoritmo de gradiente descendente.\n",
    "- `gradiente_descendente_regularizado.py`: Implementación del algoritmo de gradiente descendente con regularización $L_2$.\n",
    "- `comparacion_svd.py`: Código para la comparación con la solución obtenida por SVD.\n",
    "\n",
    "Este informe proporciona un análisis detallado y visualización de los resultados obtenidos, demostrando la efectividad de los métodos numéricos estudiados."
   ]
  },
  {
   "cell_type": "code",
   "execution_count": null,
   "metadata": {},
   "outputs": [],
   "source": []
  },
  {
   "cell_type": "code",
   "execution_count": 12,
   "metadata": {},
   "outputs": [
    {
     "data": {
      "image/png": "[encoded data removed]",
      "text/plain": [
       "<Figure size 1600x200 with 1 Axes>"
      ]
     },
     "metadata": {},
     "output_type": "display_data"
    }
   ],
   "source": [
    "# Crear una matriz 2D con valores crecientes en la diagonal\n",
    "plt.matshow(A)\n",
    "plt.show()\n"
   ]
  },
  {
   "cell_type": "code",
   "execution_count": 15,
   "metadata": {},
   "outputs": [
    {
     "data": {
      "image/png": "[encoded data removed]",
      "text/plain": [
       "<Figure size 1600x200 with 1 Axes>"
      ]
     },
     "metadata": {},
     "output_type": "display_data"
    }
   ],
   "source": [
    "# Supongamos que A es tu matriz 5x10\n",
    "\n",
    "# Crear el gráfico\n",
    "plt.matshow(A)\n",
    "\n",
    "# Obtener el objeto Axes del gráfico actual\n",
    "ax = plt.gca()\n",
    "\n",
    "# Configurar las etiquetas de los ejes para que comiencen en 1\n",
    "ax.set_xticks(np.arange(0, A.shape[1], 20))\n",
    "ax.set_xticklabels(np.arange(1, A.shape[1]  , 20))\n",
    "ax.set_yticks(np.arange(A.shape[0]))\n",
    "ax.set_yticklabels(np.arange(1, A.shape[0] + 1))\n",
    "\n",
    "# Mostrar el gráfico\n",
    "plt.show()"
   ]
  }
 ],
 "metadata": {
  "kernelspec": {
   "display_name": "proba",
   "language": "python",
   "name": "python3"
  },
  "language_info": {
   "codemirror_mode": {
    "name": "ipython",
    "version": 3
   },
   "file_extension": ".py",
   "mimetype": "text/x-python",
   "name": "python",
   "nbconvert_exporter": "python",
   "pygments_lexer": "ipython3",
   "version": "3.10.12"
  }
 },
 "nbformat": 4,
 "nbformat_minor": 2
}
